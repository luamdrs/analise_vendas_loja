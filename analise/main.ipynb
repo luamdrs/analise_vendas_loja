{
 "cells": [
  {
   "cell_type": "markdown",
   "metadata": {},
   "source": [
    "# Projeto: Análise de Vendas de uma Loja 🏬"
   ]
  },
  {
   "cell_type": "markdown",
   "metadata": {},
   "source": [
    "**Objetivos:**\n",
    "\n",
    "* Analisar os dados de vendas de uma loja e extrair informações importantes, como:\n",
    "\n",
    "1. Produtos mais vendidos\n",
    "2. A distribuição das vendas por categoria\n",
    "3. Calcular a média de vendas por mês"
   ]
  },
  {
   "cell_type": "markdown",
   "metadata": {},
   "source": [
    "1. _Carregamento dos dados_"
   ]
  },
  {
   "cell_type": "code",
   "execution_count": 144,
   "metadata": {},
   "outputs": [],
   "source": [
    "import pandas as pd\n",
    "import matplotlib.pyplot as plt\n",
    "import seaborn as sns"
   ]
  },
  {
   "cell_type": "code",
   "execution_count": 145,
   "metadata": {},
   "outputs": [
    {
     "data": {
      "text/html": [
       "<div>\n",
       "<style scoped>\n",
       "    .dataframe tbody tr th:only-of-type {\n",
       "        vertical-align: middle;\n",
       "    }\n",
       "\n",
       "    .dataframe tbody tr th {\n",
       "        vertical-align: top;\n",
       "    }\n",
       "\n",
       "    .dataframe thead th {\n",
       "        text-align: right;\n",
       "    }\n",
       "</style>\n",
       "<table border=\"1\" class=\"dataframe\">\n",
       "  <thead>\n",
       "    <tr style=\"text-align: right;\">\n",
       "      <th></th>\n",
       "      <th>ID_Venda</th>\n",
       "      <th>ID_Cliente</th>\n",
       "      <th>Produto</th>\n",
       "      <th>Categoria</th>\n",
       "      <th>Quantidade</th>\n",
       "      <th>Preço</th>\n",
       "      <th>Data</th>\n",
       "    </tr>\n",
       "  </thead>\n",
       "  <tbody>\n",
       "    <tr>\n",
       "      <th>0</th>\n",
       "      <td>1</td>\n",
       "      <td>982</td>\n",
       "      <td>Monitor</td>\n",
       "      <td>Imagem</td>\n",
       "      <td>4.0</td>\n",
       "      <td>177.44</td>\n",
       "      <td>2024-04-02</td>\n",
       "    </tr>\n",
       "    <tr>\n",
       "      <th>1</th>\n",
       "      <td>2</td>\n",
       "      <td>972</td>\n",
       "      <td>Tablet</td>\n",
       "      <td>Acessórios</td>\n",
       "      <td>5.0</td>\n",
       "      <td>984.28</td>\n",
       "      <td>2024-06-11</td>\n",
       "    </tr>\n",
       "    <tr>\n",
       "      <th>2</th>\n",
       "      <td>3</td>\n",
       "      <td>530</td>\n",
       "      <td>Mouse</td>\n",
       "      <td>Portáteis</td>\n",
       "      <td>1.0</td>\n",
       "      <td>2177.53</td>\n",
       "      <td>2024-03-08</td>\n",
       "    </tr>\n",
       "    <tr>\n",
       "      <th>3</th>\n",
       "      <td>4</td>\n",
       "      <td>854</td>\n",
       "      <td>Teclado</td>\n",
       "      <td>Acessórios</td>\n",
       "      <td>5.0</td>\n",
       "      <td>1514.71</td>\n",
       "      <td>2024-09-29</td>\n",
       "    </tr>\n",
       "    <tr>\n",
       "      <th>4</th>\n",
       "      <td>5</td>\n",
       "      <td>932</td>\n",
       "      <td>Fone de Ouvido</td>\n",
       "      <td>Acessórios</td>\n",
       "      <td>3.0</td>\n",
       "      <td>311.76</td>\n",
       "      <td>2024-01-19</td>\n",
       "    </tr>\n",
       "    <tr>\n",
       "      <th>...</th>\n",
       "      <td>...</td>\n",
       "      <td>...</td>\n",
       "      <td>...</td>\n",
       "      <td>...</td>\n",
       "      <td>...</td>\n",
       "      <td>...</td>\n",
       "      <td>...</td>\n",
       "    </tr>\n",
       "    <tr>\n",
       "      <th>9995</th>\n",
       "      <td>9996</td>\n",
       "      <td>12</td>\n",
       "      <td>Smartphone</td>\n",
       "      <td>Periféricos</td>\n",
       "      <td>5.0</td>\n",
       "      <td>4340.03</td>\n",
       "      <td>2023-11-30</td>\n",
       "    </tr>\n",
       "    <tr>\n",
       "      <th>9996</th>\n",
       "      <td>9997</td>\n",
       "      <td>551</td>\n",
       "      <td>Câmera</td>\n",
       "      <td>Acessórios</td>\n",
       "      <td>3.0</td>\n",
       "      <td>4606.46</td>\n",
       "      <td>2024-05-10</td>\n",
       "    </tr>\n",
       "    <tr>\n",
       "      <th>9997</th>\n",
       "      <td>9998</td>\n",
       "      <td>985</td>\n",
       "      <td>Câmera</td>\n",
       "      <td>Imagem</td>\n",
       "      <td>2.0</td>\n",
       "      <td>3301.40</td>\n",
       "      <td>2024-04-02</td>\n",
       "    </tr>\n",
       "    <tr>\n",
       "      <th>9998</th>\n",
       "      <td>9999</td>\n",
       "      <td>698</td>\n",
       "      <td>Tablet</td>\n",
       "      <td>Portáteis</td>\n",
       "      <td>3.0</td>\n",
       "      <td>1535.11</td>\n",
       "      <td>2024-07-27</td>\n",
       "    </tr>\n",
       "    <tr>\n",
       "      <th>9999</th>\n",
       "      <td>10000</td>\n",
       "      <td>456</td>\n",
       "      <td>Fone de Ouvido</td>\n",
       "      <td>Periféricos</td>\n",
       "      <td>2.0</td>\n",
       "      <td>1595.84</td>\n",
       "      <td>2024-05-07</td>\n",
       "    </tr>\n",
       "  </tbody>\n",
       "</table>\n",
       "<p>10000 rows × 7 columns</p>\n",
       "</div>"
      ],
      "text/plain": [
       "      ID_Venda  ID_Cliente         Produto    Categoria  Quantidade    Preço  \\\n",
       "0            1         982         Monitor       Imagem         4.0   177.44   \n",
       "1            2         972          Tablet   Acessórios         5.0   984.28   \n",
       "2            3         530           Mouse    Portáteis         1.0  2177.53   \n",
       "3            4         854         Teclado   Acessórios         5.0  1514.71   \n",
       "4            5         932  Fone de Ouvido   Acessórios         3.0   311.76   \n",
       "...        ...         ...             ...          ...         ...      ...   \n",
       "9995      9996          12      Smartphone  Periféricos         5.0  4340.03   \n",
       "9996      9997         551          Câmera   Acessórios         3.0  4606.46   \n",
       "9997      9998         985          Câmera       Imagem         2.0  3301.40   \n",
       "9998      9999         698          Tablet    Portáteis         3.0  1535.11   \n",
       "9999     10000         456  Fone de Ouvido  Periféricos         2.0  1595.84   \n",
       "\n",
       "            Data  \n",
       "0     2024-04-02  \n",
       "1     2024-06-11  \n",
       "2     2024-03-08  \n",
       "3     2024-09-29  \n",
       "4     2024-01-19  \n",
       "...          ...  \n",
       "9995  2023-11-30  \n",
       "9996  2024-05-10  \n",
       "9997  2024-04-02  \n",
       "9998  2024-07-27  \n",
       "9999  2024-05-07  \n",
       "\n",
       "[10000 rows x 7 columns]"
      ]
     },
     "execution_count": 145,
     "metadata": {},
     "output_type": "execute_result"
    }
   ],
   "source": [
    "vendas = pd.read_csv('vendas.csv')\n",
    "vendas"
   ]
  },
  {
   "cell_type": "code",
   "execution_count": 146,
   "metadata": {},
   "outputs": [
    {
     "data": {
      "text/html": [
       "<div>\n",
       "<style scoped>\n",
       "    .dataframe tbody tr th:only-of-type {\n",
       "        vertical-align: middle;\n",
       "    }\n",
       "\n",
       "    .dataframe tbody tr th {\n",
       "        vertical-align: top;\n",
       "    }\n",
       "\n",
       "    .dataframe thead th {\n",
       "        text-align: right;\n",
       "    }\n",
       "</style>\n",
       "<table border=\"1\" class=\"dataframe\">\n",
       "  <thead>\n",
       "    <tr style=\"text-align: right;\">\n",
       "      <th></th>\n",
       "      <th>ID_Cliente</th>\n",
       "      <th>Nome</th>\n",
       "      <th>Idade</th>\n",
       "      <th>Gênero</th>\n",
       "      <th>Cidade</th>\n",
       "    </tr>\n",
       "  </thead>\n",
       "  <tbody>\n",
       "    <tr>\n",
       "      <th>0</th>\n",
       "      <td>1</td>\n",
       "      <td>Giovanna Peixoto</td>\n",
       "      <td>44</td>\n",
       "      <td>Feminino</td>\n",
       "      <td>Curitiba</td>\n",
       "    </tr>\n",
       "    <tr>\n",
       "      <th>1</th>\n",
       "      <td>2</td>\n",
       "      <td>Ana Vitória Mendes</td>\n",
       "      <td>48</td>\n",
       "      <td>Masculino</td>\n",
       "      <td>Rio de Janeiro</td>\n",
       "    </tr>\n",
       "    <tr>\n",
       "      <th>2</th>\n",
       "      <td>3</td>\n",
       "      <td>Breno Silveira</td>\n",
       "      <td>35</td>\n",
       "      <td>Feminino</td>\n",
       "      <td>São Paulo</td>\n",
       "    </tr>\n",
       "    <tr>\n",
       "      <th>3</th>\n",
       "      <td>4</td>\n",
       "      <td>Caio Pereira</td>\n",
       "      <td>38</td>\n",
       "      <td>Outro</td>\n",
       "      <td>São Paulo</td>\n",
       "    </tr>\n",
       "    <tr>\n",
       "      <th>4</th>\n",
       "      <td>5</td>\n",
       "      <td>Francisco Dias</td>\n",
       "      <td>60</td>\n",
       "      <td>Feminino</td>\n",
       "      <td>Rio de Janeiro</td>\n",
       "    </tr>\n",
       "    <tr>\n",
       "      <th>...</th>\n",
       "      <td>...</td>\n",
       "      <td>...</td>\n",
       "      <td>...</td>\n",
       "      <td>...</td>\n",
       "      <td>...</td>\n",
       "    </tr>\n",
       "    <tr>\n",
       "      <th>995</th>\n",
       "      <td>996</td>\n",
       "      <td>Vicente Gomes</td>\n",
       "      <td>22</td>\n",
       "      <td>Feminino</td>\n",
       "      <td>Salvador</td>\n",
       "    </tr>\n",
       "    <tr>\n",
       "      <th>996</th>\n",
       "      <td>997</td>\n",
       "      <td>Marcos Vinicius Gomes</td>\n",
       "      <td>53</td>\n",
       "      <td>Feminino</td>\n",
       "      <td>Salvador</td>\n",
       "    </tr>\n",
       "    <tr>\n",
       "      <th>997</th>\n",
       "      <td>998</td>\n",
       "      <td>Guilherme Almeida</td>\n",
       "      <td>70</td>\n",
       "      <td>Feminino</td>\n",
       "      <td>Porto Alegre</td>\n",
       "    </tr>\n",
       "    <tr>\n",
       "      <th>998</th>\n",
       "      <td>999</td>\n",
       "      <td>Miguel Cardoso</td>\n",
       "      <td>30</td>\n",
       "      <td>Masculino</td>\n",
       "      <td>Rio de Janeiro</td>\n",
       "    </tr>\n",
       "    <tr>\n",
       "      <th>999</th>\n",
       "      <td>1000</td>\n",
       "      <td>Breno da Mata</td>\n",
       "      <td>30</td>\n",
       "      <td>Feminino</td>\n",
       "      <td>Salvador</td>\n",
       "    </tr>\n",
       "  </tbody>\n",
       "</table>\n",
       "<p>1000 rows × 5 columns</p>\n",
       "</div>"
      ],
      "text/plain": [
       "     ID_Cliente                   Nome  Idade     Gênero          Cidade\n",
       "0             1       Giovanna Peixoto     44   Feminino        Curitiba\n",
       "1             2     Ana Vitória Mendes     48  Masculino  Rio de Janeiro\n",
       "2             3         Breno Silveira     35   Feminino       São Paulo\n",
       "3             4           Caio Pereira     38      Outro       São Paulo\n",
       "4             5         Francisco Dias     60   Feminino  Rio de Janeiro\n",
       "..          ...                    ...    ...        ...             ...\n",
       "995         996          Vicente Gomes     22   Feminino        Salvador\n",
       "996         997  Marcos Vinicius Gomes     53   Feminino        Salvador\n",
       "997         998      Guilherme Almeida     70   Feminino    Porto Alegre\n",
       "998         999         Miguel Cardoso     30  Masculino  Rio de Janeiro\n",
       "999        1000          Breno da Mata     30   Feminino        Salvador\n",
       "\n",
       "[1000 rows x 5 columns]"
      ]
     },
     "execution_count": 146,
     "metadata": {},
     "output_type": "execute_result"
    }
   ],
   "source": [
    "clientes = pd.read_csv('clientes.csv')\n",
    "clientes"
   ]
  },
  {
   "cell_type": "markdown",
   "metadata": {},
   "source": [
    "2. _Pré-processamento e limpeza dos dados_"
   ]
  },
  {
   "cell_type": "code",
   "execution_count": 147,
   "metadata": {},
   "outputs": [
    {
     "name": "stdout",
     "output_type": "stream",
     "text": [
      "ID_Venda        0\n",
      "ID_Cliente      0\n",
      "Produto       197\n",
      "Categoria       0\n",
      "Quantidade    199\n",
      "Preço           0\n",
      "Data            0\n",
      "dtype: int64\n"
     ]
    }
   ],
   "source": [
    "print(vendas.isnull().sum())"
   ]
  },
  {
   "cell_type": "code",
   "execution_count": 148,
   "metadata": {},
   "outputs": [
    {
     "name": "stdout",
     "output_type": "stream",
     "text": [
      "ID_Cliente     0\n",
      "Nome           0\n",
      "Idade          0\n",
      "Gênero         0\n",
      "Cidade        55\n",
      "dtype: int64\n"
     ]
    }
   ],
   "source": [
    "print(clientes.isnull().sum())"
   ]
  },
  {
   "cell_type": "code",
   "execution_count": 149,
   "metadata": {},
   "outputs": [
    {
     "name": "stdout",
     "output_type": "stream",
     "text": [
      "ID_Venda      0\n",
      "ID_Cliente    0\n",
      "Produto       0\n",
      "Categoria     0\n",
      "Quantidade    0\n",
      "Preço         0\n",
      "Data          0\n",
      "dtype: int64\n"
     ]
    }
   ],
   "source": [
    "vendas = vendas.dropna(subset=['Produto', 'Quantidade'])\n",
    "\n",
    "print(vendas.isnull().sum())"
   ]
  },
  {
   "cell_type": "code",
   "execution_count": 150,
   "metadata": {},
   "outputs": [
    {
     "name": "stdout",
     "output_type": "stream",
     "text": [
      "ID_Cliente    0\n",
      "Nome          0\n",
      "Idade         0\n",
      "Gênero        0\n",
      "Cidade        0\n",
      "dtype: int64\n"
     ]
    }
   ],
   "source": [
    "clientes = clientes.fillna({'Cidade': 'Desconhecida'})\n",
    "\n",
    "print(clientes.isnull().sum())"
   ]
  },
  {
   "cell_type": "markdown",
   "metadata": {},
   "source": [
    "3. _Junção dos dados de vendas com os clientes_"
   ]
  },
  {
   "cell_type": "code",
   "execution_count": 151,
   "metadata": {},
   "outputs": [
    {
     "data": {
      "text/html": [
       "<div>\n",
       "<style scoped>\n",
       "    .dataframe tbody tr th:only-of-type {\n",
       "        vertical-align: middle;\n",
       "    }\n",
       "\n",
       "    .dataframe tbody tr th {\n",
       "        vertical-align: top;\n",
       "    }\n",
       "\n",
       "    .dataframe thead th {\n",
       "        text-align: right;\n",
       "    }\n",
       "</style>\n",
       "<table border=\"1\" class=\"dataframe\">\n",
       "  <thead>\n",
       "    <tr style=\"text-align: right;\">\n",
       "      <th></th>\n",
       "      <th>ID_Venda</th>\n",
       "      <th>ID_Cliente</th>\n",
       "      <th>Produto</th>\n",
       "      <th>Categoria</th>\n",
       "      <th>Quantidade</th>\n",
       "      <th>Preço</th>\n",
       "      <th>Data</th>\n",
       "      <th>Nome</th>\n",
       "      <th>Idade</th>\n",
       "      <th>Gênero</th>\n",
       "      <th>Cidade</th>\n",
       "    </tr>\n",
       "  </thead>\n",
       "  <tbody>\n",
       "    <tr>\n",
       "      <th>0</th>\n",
       "      <td>1</td>\n",
       "      <td>982</td>\n",
       "      <td>Monitor</td>\n",
       "      <td>Imagem</td>\n",
       "      <td>4.0</td>\n",
       "      <td>177.44</td>\n",
       "      <td>2024-04-02</td>\n",
       "      <td>Calebe da Cunha</td>\n",
       "      <td>65</td>\n",
       "      <td>Outro</td>\n",
       "      <td>São Paulo</td>\n",
       "    </tr>\n",
       "    <tr>\n",
       "      <th>1</th>\n",
       "      <td>2</td>\n",
       "      <td>972</td>\n",
       "      <td>Tablet</td>\n",
       "      <td>Acessórios</td>\n",
       "      <td>5.0</td>\n",
       "      <td>984.28</td>\n",
       "      <td>2024-06-11</td>\n",
       "      <td>Vitor Cavalcanti</td>\n",
       "      <td>44</td>\n",
       "      <td>Feminino</td>\n",
       "      <td>Salvador</td>\n",
       "    </tr>\n",
       "    <tr>\n",
       "      <th>2</th>\n",
       "      <td>3</td>\n",
       "      <td>530</td>\n",
       "      <td>Mouse</td>\n",
       "      <td>Portáteis</td>\n",
       "      <td>1.0</td>\n",
       "      <td>2177.53</td>\n",
       "      <td>2024-03-08</td>\n",
       "      <td>Felipe Pires</td>\n",
       "      <td>48</td>\n",
       "      <td>Masculino</td>\n",
       "      <td>Porto Alegre</td>\n",
       "    </tr>\n",
       "    <tr>\n",
       "      <th>3</th>\n",
       "      <td>4</td>\n",
       "      <td>854</td>\n",
       "      <td>Teclado</td>\n",
       "      <td>Acessórios</td>\n",
       "      <td>5.0</td>\n",
       "      <td>1514.71</td>\n",
       "      <td>2024-09-29</td>\n",
       "      <td>Paulo Cardoso</td>\n",
       "      <td>60</td>\n",
       "      <td>Feminino</td>\n",
       "      <td>Rio de Janeiro</td>\n",
       "    </tr>\n",
       "    <tr>\n",
       "      <th>4</th>\n",
       "      <td>5</td>\n",
       "      <td>932</td>\n",
       "      <td>Fone de Ouvido</td>\n",
       "      <td>Acessórios</td>\n",
       "      <td>3.0</td>\n",
       "      <td>311.76</td>\n",
       "      <td>2024-01-19</td>\n",
       "      <td>Alana Farias</td>\n",
       "      <td>28</td>\n",
       "      <td>Feminino</td>\n",
       "      <td>Salvador</td>\n",
       "    </tr>\n",
       "    <tr>\n",
       "      <th>...</th>\n",
       "      <td>...</td>\n",
       "      <td>...</td>\n",
       "      <td>...</td>\n",
       "      <td>...</td>\n",
       "      <td>...</td>\n",
       "      <td>...</td>\n",
       "      <td>...</td>\n",
       "      <td>...</td>\n",
       "      <td>...</td>\n",
       "      <td>...</td>\n",
       "      <td>...</td>\n",
       "    </tr>\n",
       "    <tr>\n",
       "      <th>9601</th>\n",
       "      <td>9996</td>\n",
       "      <td>12</td>\n",
       "      <td>Smartphone</td>\n",
       "      <td>Periféricos</td>\n",
       "      <td>5.0</td>\n",
       "      <td>4340.03</td>\n",
       "      <td>2023-11-30</td>\n",
       "      <td>Elisa Lima</td>\n",
       "      <td>20</td>\n",
       "      <td>Feminino</td>\n",
       "      <td>Desconhecida</td>\n",
       "    </tr>\n",
       "    <tr>\n",
       "      <th>9602</th>\n",
       "      <td>9997</td>\n",
       "      <td>551</td>\n",
       "      <td>Câmera</td>\n",
       "      <td>Acessórios</td>\n",
       "      <td>3.0</td>\n",
       "      <td>4606.46</td>\n",
       "      <td>2024-05-10</td>\n",
       "      <td>Isabella Teixeira</td>\n",
       "      <td>43</td>\n",
       "      <td>Masculino</td>\n",
       "      <td>Porto Alegre</td>\n",
       "    </tr>\n",
       "    <tr>\n",
       "      <th>9603</th>\n",
       "      <td>9998</td>\n",
       "      <td>985</td>\n",
       "      <td>Câmera</td>\n",
       "      <td>Imagem</td>\n",
       "      <td>2.0</td>\n",
       "      <td>3301.40</td>\n",
       "      <td>2024-04-02</td>\n",
       "      <td>Samuel da Conceição</td>\n",
       "      <td>33</td>\n",
       "      <td>Masculino</td>\n",
       "      <td>Porto Alegre</td>\n",
       "    </tr>\n",
       "    <tr>\n",
       "      <th>9604</th>\n",
       "      <td>9999</td>\n",
       "      <td>698</td>\n",
       "      <td>Tablet</td>\n",
       "      <td>Portáteis</td>\n",
       "      <td>3.0</td>\n",
       "      <td>1535.11</td>\n",
       "      <td>2024-07-27</td>\n",
       "      <td>Dr. Noah Barbosa</td>\n",
       "      <td>60</td>\n",
       "      <td>Feminino</td>\n",
       "      <td>Desconhecida</td>\n",
       "    </tr>\n",
       "    <tr>\n",
       "      <th>9605</th>\n",
       "      <td>10000</td>\n",
       "      <td>456</td>\n",
       "      <td>Fone de Ouvido</td>\n",
       "      <td>Periféricos</td>\n",
       "      <td>2.0</td>\n",
       "      <td>1595.84</td>\n",
       "      <td>2024-05-07</td>\n",
       "      <td>Ana Luiza Moreira</td>\n",
       "      <td>49</td>\n",
       "      <td>Masculino</td>\n",
       "      <td>São Paulo</td>\n",
       "    </tr>\n",
       "  </tbody>\n",
       "</table>\n",
       "<p>9606 rows × 11 columns</p>\n",
       "</div>"
      ],
      "text/plain": [
       "      ID_Venda  ID_Cliente         Produto    Categoria  Quantidade    Preço  \\\n",
       "0            1         982         Monitor       Imagem         4.0   177.44   \n",
       "1            2         972          Tablet   Acessórios         5.0   984.28   \n",
       "2            3         530           Mouse    Portáteis         1.0  2177.53   \n",
       "3            4         854         Teclado   Acessórios         5.0  1514.71   \n",
       "4            5         932  Fone de Ouvido   Acessórios         3.0   311.76   \n",
       "...        ...         ...             ...          ...         ...      ...   \n",
       "9601      9996          12      Smartphone  Periféricos         5.0  4340.03   \n",
       "9602      9997         551          Câmera   Acessórios         3.0  4606.46   \n",
       "9603      9998         985          Câmera       Imagem         2.0  3301.40   \n",
       "9604      9999         698          Tablet    Portáteis         3.0  1535.11   \n",
       "9605     10000         456  Fone de Ouvido  Periféricos         2.0  1595.84   \n",
       "\n",
       "            Data                 Nome  Idade     Gênero          Cidade  \n",
       "0     2024-04-02      Calebe da Cunha     65      Outro       São Paulo  \n",
       "1     2024-06-11     Vitor Cavalcanti     44   Feminino        Salvador  \n",
       "2     2024-03-08         Felipe Pires     48  Masculino    Porto Alegre  \n",
       "3     2024-09-29        Paulo Cardoso     60   Feminino  Rio de Janeiro  \n",
       "4     2024-01-19         Alana Farias     28   Feminino        Salvador  \n",
       "...          ...                  ...    ...        ...             ...  \n",
       "9601  2023-11-30           Elisa Lima     20   Feminino    Desconhecida  \n",
       "9602  2024-05-10    Isabella Teixeira     43  Masculino    Porto Alegre  \n",
       "9603  2024-04-02  Samuel da Conceição     33  Masculino    Porto Alegre  \n",
       "9604  2024-07-27     Dr. Noah Barbosa     60   Feminino    Desconhecida  \n",
       "9605  2024-05-07    Ana Luiza Moreira     49  Masculino       São Paulo  \n",
       "\n",
       "[9606 rows x 11 columns]"
      ]
     },
     "execution_count": 151,
     "metadata": {},
     "output_type": "execute_result"
    }
   ],
   "source": [
    "dados_completos = pd.merge(vendas, clientes, on='ID_Cliente')\n",
    "\n",
    "dados_completos"
   ]
  },
  {
   "cell_type": "markdown",
   "metadata": {},
   "source": [
    "4. _Conversão da coluna \"Data\" para datetime_"
   ]
  },
  {
   "cell_type": "code",
   "execution_count": 152,
   "metadata": {},
   "outputs": [],
   "source": [
    "dados_completos['Data'] = pd.to_datetime(dados_completos['Data'], errors='coerce')"
   ]
  },
  {
   "cell_type": "markdown",
   "metadata": {},
   "source": [
    "5. _Criando uma coluna de mês/ano_"
   ]
  },
  {
   "cell_type": "code",
   "execution_count": 153,
   "metadata": {},
   "outputs": [
    {
     "data": {
      "text/html": [
       "<div>\n",
       "<style scoped>\n",
       "    .dataframe tbody tr th:only-of-type {\n",
       "        vertical-align: middle;\n",
       "    }\n",
       "\n",
       "    .dataframe tbody tr th {\n",
       "        vertical-align: top;\n",
       "    }\n",
       "\n",
       "    .dataframe thead th {\n",
       "        text-align: right;\n",
       "    }\n",
       "</style>\n",
       "<table border=\"1\" class=\"dataframe\">\n",
       "  <thead>\n",
       "    <tr style=\"text-align: right;\">\n",
       "      <th></th>\n",
       "      <th>Data</th>\n",
       "      <th>Mês</th>\n",
       "    </tr>\n",
       "  </thead>\n",
       "  <tbody>\n",
       "    <tr>\n",
       "      <th>0</th>\n",
       "      <td>2024-04-02</td>\n",
       "      <td>2024-04</td>\n",
       "    </tr>\n",
       "    <tr>\n",
       "      <th>1</th>\n",
       "      <td>2024-06-11</td>\n",
       "      <td>2024-06</td>\n",
       "    </tr>\n",
       "    <tr>\n",
       "      <th>2</th>\n",
       "      <td>2024-03-08</td>\n",
       "      <td>2024-03</td>\n",
       "    </tr>\n",
       "    <tr>\n",
       "      <th>3</th>\n",
       "      <td>2024-09-29</td>\n",
       "      <td>2024-09</td>\n",
       "    </tr>\n",
       "    <tr>\n",
       "      <th>4</th>\n",
       "      <td>2024-01-19</td>\n",
       "      <td>2024-01</td>\n",
       "    </tr>\n",
       "  </tbody>\n",
       "</table>\n",
       "</div>"
      ],
      "text/plain": [
       "        Data      Mês\n",
       "0 2024-04-02  2024-04\n",
       "1 2024-06-11  2024-06\n",
       "2 2024-03-08  2024-03\n",
       "3 2024-09-29  2024-09\n",
       "4 2024-01-19  2024-01"
      ]
     },
     "metadata": {},
     "output_type": "display_data"
    }
   ],
   "source": [
    "dados_completos['Mês'] = dados_completos['Data'].dt.to_period('M')\n",
    "\n",
    "display(dados_completos[['Data', 'Mês']].head())"
   ]
  },
  {
   "cell_type": "markdown",
   "metadata": {},
   "source": [
    "6. _Agrupando vendas por categoria de produto_"
   ]
  },
  {
   "cell_type": "code",
   "execution_count": 154,
   "metadata": {},
   "outputs": [
    {
     "data": {
      "text/plain": [
       "Categoria\n",
       "Acessórios     7165.0\n",
       "Imagem         7097.0\n",
       "Periféricos    7348.0\n",
       "Portáteis      7230.0\n",
       "Name: Quantidade, dtype: float64"
      ]
     },
     "execution_count": 154,
     "metadata": {},
     "output_type": "execute_result"
    }
   ],
   "source": [
    "vendas_por_categoria = dados_completos.groupby('Categoria')['Quantidade'].sum()\n",
    "\n",
    "vendas_por_categoria"
   ]
  },
  {
   "cell_type": "markdown",
   "metadata": {},
   "source": [
    "7. _Visualização das vendas por categoria através de um Gráfico de barras_"
   ]
  },
  {
   "cell_type": "code",
   "execution_count": 155,
   "metadata": {},
   "outputs": [
    {
     "data": {
      "image/png": "[encoded data removed]",
      "text/plain": [
       "<Figure size 640x480 with 1 Axes>"
      ]
     },
     "metadata": {},
     "output_type": "display_data"
    }
   ],
   "source": [
    "vendas_por_categoria.plot(kind='bar', title='Vendas por Categoria')\n",
    "plt.xlabel('Categoria')\n",
    "plt.ylabel('Total de Vendas')\n",
    "plt.show()"
   ]
  },
  {
   "cell_type": "markdown",
   "metadata": {},
   "source": [
    "8. _Agrupando vendas por mês_"
   ]
  },
  {
   "cell_type": "code",
   "execution_count": 156,
   "metadata": {},
   "outputs": [
    {
     "data": {
      "text/plain": [
       "Mês\n",
       "2023-11     815.0\n",
       "2023-12    2571.0\n",
       "2024-01    2355.0\n",
       "2024-02    2415.0\n",
       "2024-03    2375.0\n",
       "2024-04    2254.0\n",
       "2024-05    2571.0\n",
       "2024-06    2431.0\n",
       "2024-07    2370.0\n",
       "2024-08    2477.0\n",
       "2024-09    2395.0\n",
       "2024-10    2404.0\n",
       "2024-11    1407.0\n",
       "Freq: M, Name: Quantidade, dtype: float64"
      ]
     },
     "execution_count": 156,
     "metadata": {},
     "output_type": "execute_result"
    }
   ],
   "source": [
    "vendas_por_mes = dados_completos.groupby('Mês')['Quantidade'].sum()\n",
    "\n",
    "vendas_por_mes"
   ]
  },
  {
   "cell_type": "markdown",
   "metadata": {},
   "source": [
    "9. _Visualização das vendas por mês através de um Gráfico de linha_"
   ]
  },
  {
   "cell_type": "code",
   "execution_count": 158,
   "metadata": {},
   "outputs": [
    {
     "data": {
      "image/png": "[encoded data removed]",
      "text/plain": [
       "<Figure size 640x480 with 1 Axes>"
      ]
     },
     "metadata": {},
     "output_type": "display_data"
    }
   ],
   "source": [
    "vendas_por_mes.plot(kind='line', title='Vendas por Mês', marker='o')\n",
    "plt.xlabel('Mês')\n",
    "plt.ylabel('Total de Vendas')\n",
    "plt.show()"
   ]
  }
 ],
 "metadata": {
  "kernelspec": {
   "display_name": "Python 3",
   "language": "python",
   "name": "python3"
  },
  "language_info": {
   "codemirror_mode": {
    "name": "ipython",
    "version": 3
   },
   "file_extension": ".py",
   "mimetype": "text/x-python",
   "name": "python",
   "nbconvert_exporter": "python",
   "pygments_lexer": "ipython3",
   "version": "3.12.4"
  }
 },
 "nbformat": 4,
 "nbformat_minor": 2
}
